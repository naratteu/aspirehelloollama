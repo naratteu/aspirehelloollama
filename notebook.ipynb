{
 "cells": [
  {
   "cell_type": "markdown",
   "metadata": {},
   "source": [
    "# hello ollama sementic kernel polyglot notebook\n",
    "\n",
    "`Aspire`로 로컬 `Ollama`를 실행해 `SemanticKernel`을 실습 합니다. 작은 `qwen`모델을 포함합니다.\n",
    "\n",
    "```bash\n",
    "dotnet run --project ./AspireHost/AspireHost.csproj\n",
    "```"
   ]
  },
  {
   "cell_type": "code",
   "execution_count": 1,
   "metadata": {
    "dotnet_interactive": {
     "language": "csharp"
    },
    "polyglot_notebook": {
     "kernelName": "csharp"
    }
   },
   "outputs": [
    {
     "data": {
      "text/html": [
       "<div><div></div><div></div><div><strong>Installed Packages</strong><ul><li><span>Microsoft.SemanticKernel.Connectors.Ollama, 1.40.0-alpha</span></li></ul></div></div>"
      ]
     },
     "metadata": {},
     "output_type": "display_data"
    }
   ],
   "source": [
    "#r \"nuget: Microsoft.SemanticKernel.Connectors.Ollama, 1.40.0-alpha\""
   ]
  },
  {
   "cell_type": "code",
   "execution_count": 4,
   "metadata": {
    "dotnet_interactive": {
     "language": "csharp"
    },
    "polyglot_notebook": {
     "kernelName": "csharp"
    }
   },
   "outputs": [
    {
     "name": "stdout",
     "output_type": "stream",
     "text": [
      "호출됨 - Divide { a = 10, b = 2 }\r\n"
     ]
    },
    {
     "data": {
      "text/plain": [
       "10 나누기 2은 5입니다."
      ]
     },
     "metadata": {},
     "output_type": "display_data"
    }
   ],
   "source": [
    "#pragma warning disable SKEXP0070\n",
    "\n",
    "using System.ComponentModel;\n",
    "using System.Runtime.CompilerServices;\n",
    "using Microsoft.SemanticKernel;\n",
    "using Microsoft.SemanticKernel.Connectors.Ollama;\n",
    "using Microsoft.SemanticKernel.ChatCompletion;\n",
    "\n",
    "var kernel = Kernel.CreateBuilder()\n",
    "    .AddOllamaChatCompletion(\"qwen2.5:0.5b\", endpoint: new(\"http://localhost:11434\"))\n",
    "    .Build();\n",
    "\n",
    "kernel.Plugins.AddFromType<ArithmeticPlugin>(\"ArithmeticPlugin\");\n",
    "public class ArithmeticPlugin\n",
    "{\n",
    "    [KernelFunction]\n",
    "    public int Add(int a, int b) => WithLog(new{ a, b }, a + b);\n",
    "    [KernelFunction]\n",
    "    public int Subtract(int a, int b) => WithLog(new{ a, b }, a - b);\n",
    "    [KernelFunction]\n",
    "    public int Multiply(int a, int b) => WithLog(new{ a, b }, a * b);\n",
    "    [KernelFunction, Description(\"한국어로는 나누기 라고 불러요\")]\n",
    "    public double Divide(int a, int b) => WithLog(new{ a, b }, a / b);\n",
    "}\n",
    "static T WithLog<T>(object args, T t, [CallerMemberName] string caller = \"\", [CallerArgumentExpression(nameof(t))] string tStr = \"\")\n",
    "{\n",
    "    Console.WriteLine($\"호출됨 - {caller} {args}\");\n",
    "    return t;\n",
    "}\n",
    "\n",
    "var settings = new OllamaPromptExecutionSettings\n",
    "{\n",
    "    FunctionChoiceBehavior = FunctionChoiceBehavior.Required(),\n",
    "};\n",
    "var res = await kernel.GetRequiredService<IChatCompletionService>()\n",
    "    .GetChatMessageContentAsync(\"10 나누기 2는 뭐야?\", settings, kernel);\n",
    "\n",
    "res.ToString()"
   ]
  }
 ],
 "metadata": {
  "kernelspec": {
   "display_name": ".NET (C#)",
   "language": "C#",
   "name": ".net-csharp"
  },
  "language_info": {
   "name": "polyglot-notebook"
  },
  "polyglot_notebook": {
   "kernelInfo": {
    "defaultKernelName": "csharp",
    "items": [
     {
      "aliases": [],
      "languageName": "csharp",
      "name": "csharp"
     }
    ]
   }
  }
 },
 "nbformat": 4,
 "nbformat_minor": 2
}
